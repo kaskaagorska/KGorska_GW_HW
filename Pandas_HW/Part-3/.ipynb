{
 "cells": [
  {
   "cell_type": "markdown",
   "metadata": {},
   "source": [
    "<p></p>\n",
    "\n",
    "<p></p>"
   ]
  },
  {
   "cell_type": "code",
   "execution_count": 2,
   "metadata": {},
   "outputs": [],
   "source": [
    "#import libraries for analysis\n",
    "import pandas as pd\n",
    "import numpy as np\n",
    "import matplotlib.pyplot as plt\n",
    "%matplotlib inline\n",
    "import seaborn as sns"
   ]
  },
  {
   "cell_type": "markdown",
   "metadata": {},
   "source": [
    "<p></p>\n",
    "\n",
    "<p></p>"
   ]
  },
  {
   "cell_type": "code",
   "execution_count": 3,
   "metadata": {},
   "outputs": [
    {
     "ename": "FileNotFoundError",
     "evalue": "[Errno 2] File b'Resources/schools_complete.csv' does not exist: b'Resources/schools_complete.csv'",
     "output_type": "error",
     "traceback": [
      "\u001b[1;31m---------------------------------------------------------------------------\u001b[0m",
      "\u001b[1;31mFileNotFoundError\u001b[0m                         Traceback (most recent call last)",
      "\u001b[1;32m<ipython-input-3-37adb8ae506a>\u001b[0m in \u001b[0;36m<module>\u001b[1;34m\u001b[0m\n\u001b[0;32m      1\u001b[0m \u001b[1;31m#import csv files for analysis\u001b[0m\u001b[1;33m\u001b[0m\u001b[1;33m\u001b[0m\u001b[1;33m\u001b[0m\u001b[0m\n\u001b[1;32m----> 2\u001b[1;33m \u001b[0mdf_schools\u001b[0m \u001b[1;33m=\u001b[0m \u001b[0mpd\u001b[0m\u001b[1;33m.\u001b[0m\u001b[0mread_csv\u001b[0m\u001b[1;33m(\u001b[0m\u001b[1;34m'Resources/schools_complete.csv'\u001b[0m\u001b[1;33m)\u001b[0m\u001b[1;33m\u001b[0m\u001b[1;33m\u001b[0m\u001b[0m\n\u001b[0m\u001b[0;32m      3\u001b[0m \u001b[0mdf_students\u001b[0m \u001b[1;33m=\u001b[0m \u001b[0mpd\u001b[0m\u001b[1;33m.\u001b[0m\u001b[0mread_csv\u001b[0m\u001b[1;33m(\u001b[0m\u001b[1;34m'Resources/students_complete.csv'\u001b[0m\u001b[1;33m)\u001b[0m\u001b[1;33m\u001b[0m\u001b[1;33m\u001b[0m\u001b[0m\n\u001b[0;32m      4\u001b[0m \u001b[1;33m\u001b[0m\u001b[0m\n\u001b[0;32m      5\u001b[0m \u001b[1;33m\u001b[0m\u001b[0m\n",
      "\u001b[1;32m~\\Anaconda3\\lib\\site-packages\\pandas\\io\\parsers.py\u001b[0m in \u001b[0;36mparser_f\u001b[1;34m(filepath_or_buffer, sep, delimiter, header, names, index_col, usecols, squeeze, prefix, mangle_dupe_cols, dtype, engine, converters, true_values, false_values, skipinitialspace, skiprows, skipfooter, nrows, na_values, keep_default_na, na_filter, verbose, skip_blank_lines, parse_dates, infer_datetime_format, keep_date_col, date_parser, dayfirst, iterator, chunksize, compression, thousands, decimal, lineterminator, quotechar, quoting, doublequote, escapechar, comment, encoding, dialect, tupleize_cols, error_bad_lines, warn_bad_lines, delim_whitespace, low_memory, memory_map, float_precision)\u001b[0m\n\u001b[0;32m    700\u001b[0m                     skip_blank_lines=skip_blank_lines)\n\u001b[0;32m    701\u001b[0m \u001b[1;33m\u001b[0m\u001b[0m\n\u001b[1;32m--> 702\u001b[1;33m         \u001b[1;32mreturn\u001b[0m \u001b[0m_read\u001b[0m\u001b[1;33m(\u001b[0m\u001b[0mfilepath_or_buffer\u001b[0m\u001b[1;33m,\u001b[0m \u001b[0mkwds\u001b[0m\u001b[1;33m)\u001b[0m\u001b[1;33m\u001b[0m\u001b[1;33m\u001b[0m\u001b[0m\n\u001b[0m\u001b[0;32m    703\u001b[0m \u001b[1;33m\u001b[0m\u001b[0m\n\u001b[0;32m    704\u001b[0m     \u001b[0mparser_f\u001b[0m\u001b[1;33m.\u001b[0m\u001b[0m__name__\u001b[0m \u001b[1;33m=\u001b[0m \u001b[0mname\u001b[0m\u001b[1;33m\u001b[0m\u001b[1;33m\u001b[0m\u001b[0m\n",
      "\u001b[1;32m~\\Anaconda3\\lib\\site-packages\\pandas\\io\\parsers.py\u001b[0m in \u001b[0;36m_read\u001b[1;34m(filepath_or_buffer, kwds)\u001b[0m\n\u001b[0;32m    427\u001b[0m \u001b[1;33m\u001b[0m\u001b[0m\n\u001b[0;32m    428\u001b[0m     \u001b[1;31m# Create the parser.\u001b[0m\u001b[1;33m\u001b[0m\u001b[1;33m\u001b[0m\u001b[1;33m\u001b[0m\u001b[0m\n\u001b[1;32m--> 429\u001b[1;33m     \u001b[0mparser\u001b[0m \u001b[1;33m=\u001b[0m \u001b[0mTextFileReader\u001b[0m\u001b[1;33m(\u001b[0m\u001b[0mfilepath_or_buffer\u001b[0m\u001b[1;33m,\u001b[0m \u001b[1;33m**\u001b[0m\u001b[0mkwds\u001b[0m\u001b[1;33m)\u001b[0m\u001b[1;33m\u001b[0m\u001b[1;33m\u001b[0m\u001b[0m\n\u001b[0m\u001b[0;32m    430\u001b[0m \u001b[1;33m\u001b[0m\u001b[0m\n\u001b[0;32m    431\u001b[0m     \u001b[1;32mif\u001b[0m \u001b[0mchunksize\u001b[0m \u001b[1;32mor\u001b[0m \u001b[0miterator\u001b[0m\u001b[1;33m:\u001b[0m\u001b[1;33m\u001b[0m\u001b[1;33m\u001b[0m\u001b[0m\n",
      "\u001b[1;32m~\\Anaconda3\\lib\\site-packages\\pandas\\io\\parsers.py\u001b[0m in \u001b[0;36m__init__\u001b[1;34m(self, f, engine, **kwds)\u001b[0m\n\u001b[0;32m    893\u001b[0m             \u001b[0mself\u001b[0m\u001b[1;33m.\u001b[0m\u001b[0moptions\u001b[0m\u001b[1;33m[\u001b[0m\u001b[1;34m'has_index_names'\u001b[0m\u001b[1;33m]\u001b[0m \u001b[1;33m=\u001b[0m \u001b[0mkwds\u001b[0m\u001b[1;33m[\u001b[0m\u001b[1;34m'has_index_names'\u001b[0m\u001b[1;33m]\u001b[0m\u001b[1;33m\u001b[0m\u001b[1;33m\u001b[0m\u001b[0m\n\u001b[0;32m    894\u001b[0m \u001b[1;33m\u001b[0m\u001b[0m\n\u001b[1;32m--> 895\u001b[1;33m         \u001b[0mself\u001b[0m\u001b[1;33m.\u001b[0m\u001b[0m_make_engine\u001b[0m\u001b[1;33m(\u001b[0m\u001b[0mself\u001b[0m\u001b[1;33m.\u001b[0m\u001b[0mengine\u001b[0m\u001b[1;33m)\u001b[0m\u001b[1;33m\u001b[0m\u001b[1;33m\u001b[0m\u001b[0m\n\u001b[0m\u001b[0;32m    896\u001b[0m \u001b[1;33m\u001b[0m\u001b[0m\n\u001b[0;32m    897\u001b[0m     \u001b[1;32mdef\u001b[0m \u001b[0mclose\u001b[0m\u001b[1;33m(\u001b[0m\u001b[0mself\u001b[0m\u001b[1;33m)\u001b[0m\u001b[1;33m:\u001b[0m\u001b[1;33m\u001b[0m\u001b[1;33m\u001b[0m\u001b[0m\n",
      "\u001b[1;32m~\\Anaconda3\\lib\\site-packages\\pandas\\io\\parsers.py\u001b[0m in \u001b[0;36m_make_engine\u001b[1;34m(self, engine)\u001b[0m\n\u001b[0;32m   1120\u001b[0m     \u001b[1;32mdef\u001b[0m \u001b[0m_make_engine\u001b[0m\u001b[1;33m(\u001b[0m\u001b[0mself\u001b[0m\u001b[1;33m,\u001b[0m \u001b[0mengine\u001b[0m\u001b[1;33m=\u001b[0m\u001b[1;34m'c'\u001b[0m\u001b[1;33m)\u001b[0m\u001b[1;33m:\u001b[0m\u001b[1;33m\u001b[0m\u001b[1;33m\u001b[0m\u001b[0m\n\u001b[0;32m   1121\u001b[0m         \u001b[1;32mif\u001b[0m \u001b[0mengine\u001b[0m \u001b[1;33m==\u001b[0m \u001b[1;34m'c'\u001b[0m\u001b[1;33m:\u001b[0m\u001b[1;33m\u001b[0m\u001b[1;33m\u001b[0m\u001b[0m\n\u001b[1;32m-> 1122\u001b[1;33m             \u001b[0mself\u001b[0m\u001b[1;33m.\u001b[0m\u001b[0m_engine\u001b[0m \u001b[1;33m=\u001b[0m \u001b[0mCParserWrapper\u001b[0m\u001b[1;33m(\u001b[0m\u001b[0mself\u001b[0m\u001b[1;33m.\u001b[0m\u001b[0mf\u001b[0m\u001b[1;33m,\u001b[0m \u001b[1;33m**\u001b[0m\u001b[0mself\u001b[0m\u001b[1;33m.\u001b[0m\u001b[0moptions\u001b[0m\u001b[1;33m)\u001b[0m\u001b[1;33m\u001b[0m\u001b[1;33m\u001b[0m\u001b[0m\n\u001b[0m\u001b[0;32m   1123\u001b[0m         \u001b[1;32melse\u001b[0m\u001b[1;33m:\u001b[0m\u001b[1;33m\u001b[0m\u001b[1;33m\u001b[0m\u001b[0m\n\u001b[0;32m   1124\u001b[0m             \u001b[1;32mif\u001b[0m \u001b[0mengine\u001b[0m \u001b[1;33m==\u001b[0m \u001b[1;34m'python'\u001b[0m\u001b[1;33m:\u001b[0m\u001b[1;33m\u001b[0m\u001b[1;33m\u001b[0m\u001b[0m\n",
      "\u001b[1;32m~\\Anaconda3\\lib\\site-packages\\pandas\\io\\parsers.py\u001b[0m in \u001b[0;36m__init__\u001b[1;34m(self, src, **kwds)\u001b[0m\n\u001b[0;32m   1851\u001b[0m         \u001b[0mkwds\u001b[0m\u001b[1;33m[\u001b[0m\u001b[1;34m'usecols'\u001b[0m\u001b[1;33m]\u001b[0m \u001b[1;33m=\u001b[0m \u001b[0mself\u001b[0m\u001b[1;33m.\u001b[0m\u001b[0musecols\u001b[0m\u001b[1;33m\u001b[0m\u001b[1;33m\u001b[0m\u001b[0m\n\u001b[0;32m   1852\u001b[0m \u001b[1;33m\u001b[0m\u001b[0m\n\u001b[1;32m-> 1853\u001b[1;33m         \u001b[0mself\u001b[0m\u001b[1;33m.\u001b[0m\u001b[0m_reader\u001b[0m \u001b[1;33m=\u001b[0m \u001b[0mparsers\u001b[0m\u001b[1;33m.\u001b[0m\u001b[0mTextReader\u001b[0m\u001b[1;33m(\u001b[0m\u001b[0msrc\u001b[0m\u001b[1;33m,\u001b[0m \u001b[1;33m**\u001b[0m\u001b[0mkwds\u001b[0m\u001b[1;33m)\u001b[0m\u001b[1;33m\u001b[0m\u001b[1;33m\u001b[0m\u001b[0m\n\u001b[0m\u001b[0;32m   1854\u001b[0m         \u001b[0mself\u001b[0m\u001b[1;33m.\u001b[0m\u001b[0munnamed_cols\u001b[0m \u001b[1;33m=\u001b[0m \u001b[0mself\u001b[0m\u001b[1;33m.\u001b[0m\u001b[0m_reader\u001b[0m\u001b[1;33m.\u001b[0m\u001b[0munnamed_cols\u001b[0m\u001b[1;33m\u001b[0m\u001b[1;33m\u001b[0m\u001b[0m\n\u001b[0;32m   1855\u001b[0m \u001b[1;33m\u001b[0m\u001b[0m\n",
      "\u001b[1;32mpandas/_libs/parsers.pyx\u001b[0m in \u001b[0;36mpandas._libs.parsers.TextReader.__cinit__\u001b[1;34m()\u001b[0m\n",
      "\u001b[1;32mpandas/_libs/parsers.pyx\u001b[0m in \u001b[0;36mpandas._libs.parsers.TextReader._setup_parser_source\u001b[1;34m()\u001b[0m\n",
      "\u001b[1;31mFileNotFoundError\u001b[0m: [Errno 2] File b'Resources/schools_complete.csv' does not exist: b'Resources/schools_complete.csv'"
     ]
    }
   ],
   "source": [
    "#import csv files for analysis\n",
    "df_schools = pd.read_csv('Resources/schools_complete.csv')\n",
    "df_students = pd.read_csv('Resources/students_complete.csv')\n",
    "\n",
    "\n",
    "#rename columns from name to school\n",
    "df_schools.rename_axis({'name':'school'},axis=1,inplace=True)\n",
    "df_school_summary = df_schools.copy()\n"
   ]
  },
  {
   "cell_type": "markdown",
   "metadata": {},
   "source": [
    "<p></p>\n",
    "\n",
    "<p></p>"
   ]
  },
  {
   "cell_type": "markdown",
   "metadata": {},
   "source": [
    "<h3><u>District Summary</u></h3>"
   ]
  },
  {
   "cell_type": "code",
   "execution_count": null,
   "metadata": {},
   "outputs": [],
   "source": [
    "#Generated df_school_district to only look at district schools\n",
    "df_school_district = df_schools[df_schools['type'] == 'District']\n",
    "\n",
    "\n",
    "#total number of schools in the District \n",
    "total_school_district = df_school_district.shape[0]\n",
    "\n",
    "\n",
    "#Total number of student in the district\n",
    "total_number_students_district = df_school_district['size'].sum()\n",
    "\n",
    "\n",
    "#Total Budget of District\n",
    "total_school_budget_district = df_school_district['budget'].sum()\n",
    "\n",
    "\n",
    "#merge df_school_district and df_students \n",
    "df_schools_student_district_merge = df_school_district.merge(df_students,how='outer',on='school')\n",
    "\n",
    "\n",
    "#deleted columns budget and size\n",
    "del df_schools_student_district_merge['budget']\n",
    "del df_schools_student_district_merge['size']\n",
    "\n",
    "\n",
    "#total average reading and math scores for the district\n",
    "total_avg_reading_scores_district = df_schools_student_district_merge.groupby(['type'])['reading_score'].mean()[0]\n",
    "total_avg_math_scores_district = df_schools_student_district_merge.groupby(['type'])['math_score'].mean()[0]\n",
    "\n",
    "\n",
    "#Students must have a 70% on math or reading to pass \n",
    "pass_reading_district = df_schools_student_district_merge[df_schools_student_district_merge['reading_score'] >= 70]\n",
    "pass_math_district = df_schools_student_district_merge[df_schools_student_district_merge['math_score'] >= 70]\n",
    "\n",
    "\n",
    "#Count the number of students passing reading or math\n",
    "passing_reading_count_district = pass_reading_district.groupby(['type'])['Student ID'].count()[0]\n",
    "passing_math_count_district = pass_math_district.groupby(['type'])['Student ID'].count()[0]\n",
    "\n",
    "\n",
    "#Calc for average students passing reading or math\n",
    "avg_passing_math_district = (passing_math_count_district/total_number_students_district)*100\n",
    "avg_passing_reading_district = (passing_reading_count_district/total_number_students_district)*100\n",
    "\n",
    "\n",
    "#Calc for overall passing in the district\n",
    "overall_passing_district = (avg_passing_math_district+avg_passing_reading_district)/2\n",
    "\n",
    "\n",
    "#Generate dictionary for district summary dataframe\n",
    "d = {'Total_School': [total_school_district],\n",
    "     'Total_Students': [total_number_students_district],\n",
    "     'Total_Budget': [total_school_budget_district],\n",
    "     'Average_Math_score':[total_avg_math_scores_district],\n",
    "     'Average_Reading_score':[total_avg_reading_scores_district],\n",
    "     '%Passing Math': [avg_passing_math_district],\n",
    "     '%Passing Reading': [avg_passing_reading_district],\n",
    "     '%Overall Passing Rate': [overall_passing_district]}\n",
    "\n",
    "\n",
    "#Generated dataframe using above dictionary\n",
    "district_summary = pd.DataFrame(d)\n",
    "\n",
    "\n",
    "#Arrange columns\n",
    "district_summary = district_summary[['Total_School',\n",
    "                                     'Total_Students',\n",
    "                                     'Total_Budget',\n",
    "                                     'Average_Math_score',\n",
    "                                     'Average_Reading_score',\n",
    "                                     '%Passing Math',\n",
    "                                     '%Passing Reading',\n",
    "                                     '%Overall Passing Rate' ]]\n",
    "\n",
    "\n",
    "#Display dataframe for district summary\n",
    "district_summary"
   ]
  },
  {
   "cell_type": "markdown",
   "metadata": {},
   "source": [
    "<p></p>\n",
    "\n",
    "<p></p>"
   ]
  },
  {
   "cell_type": "markdown",
   "metadata": {},
   "source": [
    "<h3><u>School Summary</u></h3>"
   ]
  },
  {
   "cell_type": "code",
   "execution_count": null,
   "metadata": {},
   "outputs": [],
   "source": [
    "#deleted column School ID\n",
    "del df_school_summary['School ID']\n",
    "\n",
    "\n",
    "#Calc the series for Per Student Budget\n",
    "df_school_summary['Per Student Budget'] = df_school_summary['budget']/df_school_summary['size']\n",
    "\n",
    "\n",
    "#Using groupy found the average reading and math scores for each school\n",
    "avg_passing_math_reading_table = df_students.groupby(['school'])['reading_score','math_score'].mean().reset_index()\n",
    "\n",
    "\n",
    "#merge average passing math and reading to school summary dataframe\n",
    "df_school_summary = df_school_summary.merge(avg_passing_math_reading_table,on='school',how='outer')\n",
    "\n",
    "\n",
    "#Students must have a 70% on math or reading to pass \n",
    "summary_criteria_passing_reading = df_students[df_students['reading_score'] >= 70]\n",
    "summary_criteria_passing_math = df_students[df_students['math_score'] >= 70]\n",
    "\n",
    "\n",
    "#Count the number of students passing reading and rename column\n",
    "passing_reading_count_summary =summary_criteria_passing_reading.groupby(['school'])['reading_score'].count().reset_index()\n",
    "passing_reading_count_summary.rename_axis({'reading_score':'reading_count'},axis=1,inplace=True)\n",
    "\n",
    "\n",
    "#Count the number of students passing math and rename column\n",
    "passing_math_count_summary = summary_criteria_passing_math.groupby(['school'])['math_score'].count().reset_index()\n",
    "passing_math_count_summary.rename_axis({'math_score':'math_count'},axis=1,inplace=True)\n",
    "\n",
    "\n",
    "#merge over count to passing math dataframe\n",
    "passing_count = passing_math_count_summary.merge(passing_reading_count_summary,on='school',how='inner')\n",
    "\n",
    "\n",
    "#merge overall passing count to school summary dataframe\n",
    "df_school_summary = df_school_summary.merge(passing_count,on='school',how='outer')\n",
    "\n",
    "\n",
    "#Calc for % Passing math and reading \n",
    "df_school_summary['% Passing Math'] = (df_school_summary['math_count']/df_school_summary['size'])*100\n",
    "df_school_summary['% Passing Reading'] = (df_school_summary['reading_count']/df_school_summary['size'])*100\n",
    "\n",
    "\n",
    "#delete math and reading count from dataframe\n",
    "del df_school_summary['math_count']\n",
    "del df_school_summary['reading_count']\n",
    "\n",
    "\n",
    "#Calc for % Overall Passing series in school summary dataframe\n",
    "df_school_summary['% Overall Passing'] = (df_school_summary['% Passing Math'] + df_school_summary['% Passing Reading'])/2\n",
    "\n",
    "\n",
    "#rename axis for reading and math scores to average reading and average math scores in school summary dataframe \n",
    "df_school_summary.rename_axis({'reading_score':'Average Reading Score',\n",
    "                               'math_score': 'Average Math Score'},axis= 1 , inplace= True)\n",
    "\n",
    "\n",
    "#apply font to school summary dataframe to highlight certain columns \n",
    "cm = sns.light_palette('green',as_cmap=True)\n",
    "\n",
    "\n",
    "#display school summary dataframe\n",
    "df_school_summary.style.background_gradient(cmap=cm,subset=['Average Reading Score',\n",
    "                                                                'Average Math Score',\n",
    "                                                                '% Passing Math',\n",
    "                                                                '% Passing Reading',\n",
    "                                                                '% Overall Passing'])"
   ]
  },
  {
   "cell_type": "markdown",
   "metadata": {},
   "source": [
    "<p></p>\n",
    "\n",
    "<p></p>"
   ]
  },
  {
   "cell_type": "markdown",
   "metadata": {},
   "source": [
    "<h3><u>Top Performing Schools (By Passing Rate)</u></h3>"
   ]
  },
  {
   "cell_type": "code",
   "execution_count": null,
   "metadata": {},
   "outputs": [],
   "source": [
    "#Using the school summary dataframe found the Top Perfroming School by % Overall Passing column\n",
    "df_Top_Performing_Schools_By_Passsing_Rate = df_school_summary.sort_values(by=['% Overall Passing'],ascending=False).head(5)\n",
    "\n",
    "#Display Top Performing Schools (By Passing Rate)\n",
    "df_Top_Performing_Schools_By_Passsing_Rate.style.background_gradient(cmap=cm,subset=['% Overall Passing'])"
   ]
  },
  {
   "cell_type": "markdown",
   "metadata": {},
   "source": [
    "<p></p>\n",
    "\n",
    "<p></p>"
   ]
  },
  {
   "cell_type": "markdown",
   "metadata": {},
   "source": [
    "<h3><u>Bottom Performing Schools (By Passing Rate)</u></h3>"
   ]
  },
  {
   "cell_type": "code",
   "execution_count": null,
   "metadata": {},
   "outputs": [],
   "source": [
    "#Using the school summary dataframe found the Bottom Perfroming School by % Overall Passing column\n",
    "df_Bottom_Performing_Schools_By_Passsing_Rate = df_school_summary.sort_values(by=['% Overall Passing']).head(5)\n",
    "\n",
    "#Display Bottom Performing Schools (By Passing Rate) \n",
    "df_Bottom_Performing_Schools_By_Passsing_Rate.style.background_gradient(cmap=cm,subset=['% Overall Passing']) "
   ]
  },
  {
   "cell_type": "markdown",
   "metadata": {},
   "source": [
    "<p></p>\n",
    "\n",
    "<p></p>"
   ]
  },
  {
   "cell_type": "markdown",
   "metadata": {},
   "source": [
    "<h3><u>Math Scores by Grade</u></h3>"
   ]
  },
  {
   "cell_type": "code",
   "execution_count": null,
   "metadata": {},
   "outputs": [],
   "source": [
    "#Using a pivot table grouped the math scores by average grade\n",
    "df_math_scores__grade =pd.pivot_table(df_students,values=['math_score'],index=['school'],columns=['grade'])\n",
    "df_math_scores__grade = df_math_scores__grade.reindex_axis(labels=['9th',\n",
    "                                                                   '10th',\n",
    "                                                                   '11th',\n",
    "                                                                   '12th'],axis=1,level=1)\n",
    "#Display Math Scores by Grade\n",
    "df_math_scores__grade.style.background_gradient(cmap=cm)"
   ]
  },
  {
   "cell_type": "markdown",
   "metadata": {},
   "source": [
    "<p></p>\n",
    "\n",
    "<p></p>"
   ]
  },
  {
   "cell_type": "markdown",
   "metadata": {},
   "source": [
    "<h3><u>Reading Scores by Grade</u></h3>"
   ]
  },
  {
   "cell_type": "code",
   "execution_count": null,
   "metadata": {},
   "outputs": [],
   "source": [
    "#Using a pivot table grouped the reading scores by average grade\n",
    "df_reading_scores__grade=pd.pivot_table(df_students,values=['reading_score'],index=['school'],columns=['grade'])\n",
    "\n",
    "\n",
    "#reindex axis for reading scores by grade dataframe\n",
    "df_reading_scores__grade = df_reading_scores__grade.reindex_axis(labels=['9th',\n",
    "                                                                         '10th',\n",
    "                                                                         '11th',\n",
    "                                                                         '12th'],axis=1,level=1)\n",
    "#Display Reading Scores by Grade\n",
    "df_reading_scores__grade.style.background_gradient(cmap= cm)"
   ]
  },
  {
   "cell_type": "markdown",
   "metadata": {},
   "source": [
    "<p></p>\n",
    "\n",
    "<p></p>"
   ]
  },
  {
   "cell_type": "markdown",
   "metadata": {},
   "source": [
    "<h3><u>Scores by School Spending</u></h3>"
   ]
  },
  {
   "cell_type": "code",
   "execution_count": null,
   "metadata": {},
   "outputs": [],
   "source": [
    "#Copy school summary dataframe to new dataframe titled scores by school spending\n",
    "scores_by_school_spending = df_school_summary.copy()\n",
    "\n",
    "#assigned labels for bins\n",
    "label_spending = np.array(['577.99 to 591.50', '591.51 to 628.00', '628.01 to 641.50', '641.51 to 655.00'])\n",
    "\n",
    "#bin Per Student Budget column\n",
    "scores_by_school_spending['Per Student Budget'] = pd.qcut(scores_by_school_spending['Per Student Budget'],4,labels=label_spending,precision=0)\n",
    "\n",
    "#Display scores by school spending \n",
    "scores_by_school_spending.groupby(['Per Student Budget'])['Average Reading Score', \n",
    "                                                          'Average Math Score',\n",
    "                                                          '% Passing Math',\n",
    "                                                          '% Passing Reading',\n",
    "                                                          '% Overall Passing'].mean().style.background_gradient(cmap= cm)"
   ]
  },
  {
   "cell_type": "markdown",
   "metadata": {},
   "source": [
    "<p></p>\n",
    "\n",
    "<p></p>"
   ]
  },
  {
   "cell_type": "markdown",
   "metadata": {},
   "source": [
    "<h3><u>Scores by School Size</u></h3>"
   ]
  },
  {
   "cell_type": "code",
   "execution_count": null,
   "metadata": {},
   "outputs": [],
   "source": [
    "#Copy school summary dataframe to new dataframe titled scores by school size\n",
    "scores_by_school_size = df_school_summary.copy()\n",
    "\n",
    "\n",
    "#label small, medium, and large for bins\n",
    "label = np.array(['small','medium','large'])\n",
    "\n",
    "\n",
    "#bin school size \n",
    "scores_by_school_size['size'] = pd.qcut(scores_by_school_size['size'],3,labels=label)\n",
    "\n",
    "#Use groupby to find the average scores for reading, math, % Passing Math, % Passing Reading, and % Overall Passing \n",
    "scores_by_school_size = scores_by_school_size.groupby(['size'])['Average Reading Score',\n",
    "                                                                'Average Math Score', \n",
    "                                                                '% Passing Math',\n",
    "                                                                '% Passing Reading',\n",
    "                                                                '% Overall Passing'].mean().reset_index()\n",
    "\n",
    "#reindex axis for dataframe \n",
    "scores_by_school_size = scores_by_school_size.reindex_axis(labels=[2,1,0])\n",
    "scores_by_school_size.set_index(keys=['size'],inplace=True)\n",
    "\n",
    "#Display scores by school size dataframe\n",
    "scores_by_school_size.style.background_gradient(cmap= cm)"
   ]
  },
  {
   "cell_type": "markdown",
   "metadata": {},
   "source": [
    "<p></p>\n",
    "\n",
    "<p></p>"
   ]
  },
  {
   "cell_type": "markdown",
   "metadata": {},
   "source": [
    "<h3><u>Scores by School Type</u></h3>"
   ]
  },
  {
   "cell_type": "code",
   "execution_count": null,
   "metadata": {},
   "outputs": [],
   "source": [
    "#Copy school summary dataframe to new dataframe titled scores by school type\n",
    "scores_by_school_type = df_school_summary.copy()\n",
    "\n",
    "\n",
    "#Use groupby to find the average scores for reading, math, % Passing Math, % Passing Reading, and % Overall Passing \n",
    "scores_by_school_type = scores_by_school_type.groupby(['type'])['Average Reading Score',\n",
    "                                                                'Average Math Score',\n",
    "                                                                '% Passing Math',\n",
    "                                                                '% Passing Reading',\n",
    "                                                                '% Overall Passing'].mean().reset_index()\n",
    "#Set index to type\n",
    "scores_by_school_type.set_index('type',inplace=True)\n",
    "\n",
    "#Display scores by school type dataframe\n",
    "scores_by_school_type.style.background_gradient(cmap=cm)"
   ]
  },
  {
   "cell_type": "markdown",
   "metadata": {},
   "source": [
    "<h3><u>Conclusion</u></h3>\n",
    "<ul>\n",
    "<li>The overall passing scores appear to be directly related to the type of school. The average overall passing scores are higher for charter schools than district schools.</li> \n",
    "<p></p>\n",
    "<li>In the Scores by School Spending table, there is a relationship between the per student budget and overall passing scores. As the per student budget increased, the overall passing scores decreased.</li>\n",
    "<p></p>\n",
    "<li>In the Scores by School Size table, there is a relationship with  math, reading, and overall passing scores by size.As the school student size increased the scores dropped. </li>\n",
    "</ul>"
   ]
  }
 ],
 "metadata": {
  "kernelspec": {
   "display_name": "Python 3",
   "language": "python",
   "name": "python3"
  },
  "language_info": {
   "codemirror_mode": {
    "name": "ipython",
    "version": 3
   },
   "file_extension": ".py",
   "mimetype": "text/x-python",
   "name": "python",
   "nbconvert_exporter": "python",
   "pygments_lexer": "ipython3",
   "version": "3.7.3"
  }
 },
 "nbformat": 4,
 "nbformat_minor": 2
}
