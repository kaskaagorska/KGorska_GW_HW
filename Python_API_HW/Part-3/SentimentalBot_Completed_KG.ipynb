{
 "cells": [
  {
   "cell_type": "code",
   "execution_count": 1,
   "metadata": {},
   "outputs": [],
   "source": [
    "import tweepy\n",
    "import pandas as pd\n",
    "import matplotlib.pyplot as plt\n",
    "from textblob import TextBlob\n",
    "from config import *\n",
    "import time\n",
    "\n",
    "import seaborn as sns\n",
    "from datetime import datetime\n",
    "from pprint import pprint\n",
    "from itertools import cycle"
   ]
  },
  {
   "cell_type": "code",
   "execution_count": 2,
   "metadata": {},
   "outputs": [],
   "source": [
    "auth = tweepy.OAuthHandler(consumer_key, consumer_secret)\n",
    "auth.set_access_token(access_token, access_token_secret)\n",
    "api = tweepy.API(auth, parser=tweepy.parsers.JSONParser(), wait_on_rate_limit=True)\n",
    "\n",
    "# Set target account\n",
    "query = '@kaska_gorska'\n",
    "# Add target account to accounts list not to analyse it\n",
    "accounts = [query]\n",
    "last_tweet_id = 0"
   ]
  },
  {
   "cell_type": "code",
   "execution_count": 3,
   "metadata": {},
   "outputs": [
    {
     "data": {
      "text/plain": [
       "0"
      ]
     },
     "execution_count": 3,
     "metadata": {},
     "output_type": "execute_result"
    }
   ],
   "source": [
    "last_tweet_id\n"
   ]
  },
  {
   "cell_type": "code",
   "execution_count": 4,
   "metadata": {},
   "outputs": [],
   "source": [
    "def sentiment_bot():\n",
    "    \n",
    "    mentions = api.search(query, count=10, result_type='recent')\n",
    "    print(len(mentions))\n",
    "    \n",
    "    for tweet in mentions['statuses']:\n",
    "        tweet_id = tweet['id']\n",
    "        print(f'tweet id: {tweet_id}')\n",
    "        global last_tweet_id\n",
    "        print(f'last id: {last_tweet_id}')\n",
    "        \n",
    "        if tweet_id > last_tweet_id:\n",
    "            try:\n",
    "                new_acc = (f'@{tweet[\"entities\"][\"user_mentions\"][-1][\"screen_name\"]}')\n",
    "                print(f'new acc to check: {new_acc}')\n",
    "            \n",
    "                if not new_acc:\n",
    "                    break  \n",
    "                \n",
    "            except(IndexError):\n",
    "                continue\n",
    "            \n",
    "            if new_acc not in accounts:\n",
    "                accounts.append(new_acc)\n",
    "                sender = (f\"{tweet['user']['name']} (@{tweet['user']['screen_name']})\")\n",
    "                print(f'sender is {sender}')\n",
    "                #print('---')\n",
    "            \n",
    "                blob_sent(new_acc, sender)\n",
    "                #api.update_with_media('Output/plot.png', f'New Tweet Analysis of {new_acc}. Thank you {sender}!')\n",
    "                api.update_with_media('Output/plot.png', f'New Tweet Analysis of .. Thank you ..!')\n",
    "                print('plot printed')\n",
    "            else:\n",
    "                print('We\\'ve analyzed it already')\n",
    "                #print('---------')\n",
    "\n",
    "    try:\n",
    "        last_tweet_id = mentions['statuses'][0]['id']\n",
    "        print(f'new last tweet id: {last_tweet_id}')\n",
    "        \n",
    "    \n",
    "    except(IndexError):\n",
    "        print('No new account name in the tweet')"
   ]
  },
  {
   "cell_type": "code",
   "execution_count": 5,
   "metadata": {},
   "outputs": [],
   "source": [
    "def two_plots(data,send,acc):\n",
    "    df = pd.DataFrame(data)\n",
    "    current_date = datetime.now().date().strftime(\"%d.%m.%Y\")\n",
    "    sns.set()\n",
    "    \n",
    "    feature_list = ['Polarity', 'Subjectivity']\n",
    "    colors = cycle(['g', '#1a75ff'])\n",
    "    \n",
    "    plt.figure(figsize=(7,9))\n",
    "    for i in range(len(feature_list)):\n",
    "        \n",
    "        plt.subplot(2,1,i+1)\n",
    "        plt.plot(df['Tweets Ago'], df[feature_list[i]], marker='o', linewidth=0.3, color=next(colors), alpha=0.9)\n",
    "        plt.title(f'Sentiment Analysis of {acc} Tweets {feature_list[i]}\\n on {current_date}. Requested by {send}')\n",
    "        plt.ylabel(f'Tweets {feature_list[i]}')\n",
    "        plt.ylim(-1.1,1.1)\n",
    "        \n",
    "    plt.tight_layout()    \n",
    "    plt.savefig('Output/plot.png')"
   ]
  },
  {
   "cell_type": "code",
   "execution_count": 6,
   "metadata": {},
   "outputs": [],
   "source": [
    "def blob_sent(acc,send):\n",
    "    \n",
    "    total_mood = []\n",
    "    last_tweet = None\n",
    "    tweet_counter = 0\n",
    "    send = send\n",
    "    acc = acc\n",
    "    \n",
    "    for x in range(3):\n",
    "        \n",
    "        all_data = api.user_timeline(acc, count=10, max_id=last_tweet, page=x)\n",
    "        \n",
    "        for tweet in all_data:\n",
    "            \n",
    "            blob = TextBlob(tweet['text'])\n",
    "            sentiment = blob.sentiment\n",
    "            total_mood.append({'source': acc,\n",
    "                             'Polarity': sentiment[0],\n",
    "                             'Subjectivity': sentiment[1],\n",
    "                             'Tweets Ago': tweet_counter,\n",
    "                             'text': tweet['text'],\n",
    "                             'time': tweet['created_at'],\n",
    "                              'likes': tweet['favorite_count'],\n",
    "                              'RT': tweet['retweet_count']})\n",
    "            tweet_counter -= 1\n",
    "        last_tweet = tweet[\"id\"] - 1\n",
    "    \n",
    "    return two_plots(total_mood,send,acc)"
   ]
  },
  {
   "cell_type": "code",
   "execution_count": null,
   "metadata": {},
   "outputs": [
    {
     "name": "stdout",
     "output_type": "stream",
     "text": [
      "2\n",
      "No new account name in the tweet\n",
      "2\n",
      "No new account name in the tweet\n",
      "2\n",
      "No new account name in the tweet\n",
      "2\n",
      "No new account name in the tweet\n",
      "2\n",
      "No new account name in the tweet\n",
      "2\n",
      "No new account name in the tweet\n",
      "2\n",
      "No new account name in the tweet\n"
     ]
    }
   ],
   "source": [
    "\n",
    "counter = 1\n",
    "\n",
    "while(True):\n",
    "    \n",
    "    sentiment_bot()\n",
    "    time.sleep(40)\n",
    "    counter +=1"
   ]
  },
  {
   "cell_type": "code",
   "execution_count": null,
   "metadata": {},
   "outputs": [],
   "source": [
    "\n",
    "api.update_status('@kaska_gorska analyze @rock')"
   ]
  },
  {
   "cell_type": "code",
   "execution_count": null,
   "metadata": {},
   "outputs": [],
   "source": [
    "for tweet in mentions['statuses']:\n",
    "    tweet_id = tweet['id']\n",
    "    print(tweet_id)\n",
    "    if tweet_id > last_tweet_id:\n",
    "        try:\n",
    "            new_acc = (f'@{tweet[\"entities\"][\"user_mentions\"][-1][\"screen_name\"]}')\n",
    "            print(f'new acc to check: {new_acc}')\n",
    "            \n",
    "            if not new_acc:\n",
    "                break  \n",
    "                \n",
    "        except(IndexError):\n",
    "            print('')\n",
    "            \n",
    "        if new_acc not in accounts:\n",
    "            accounts.append(new_acc)\n",
    "            sender = (f\"{tweet['user']['name']} (@{tweet['user']['screen_name']})\")\n",
    "             \n",
    "            print(f'sender is {sender}')\n",
    "            print('---')\n",
    "            \n",
    "            blob_sent(new_acc, sender)\n",
    "            api.update_with_media('Output/plot.png', f'New Tweet Analysis of {new_acc}. Thank you {sender}!')\n",
    "            \n",
    "        else:\n",
    "            print('We\\'ve analyzed it already')\n",
    "            print('---------')\n",
    "\n",
    "try:\n",
    "    mentions['statuses'][0]['id'] = tweet_id\n",
    "except(IndexError):\n",
    "    print('No new account name in the tweet')"
   ]
  }
 ],
 "metadata": {
  "kernelspec": {
   "display_name": "Python 3",
   "language": "python",
   "name": "python3"
  },
  "language_info": {
   "codemirror_mode": {
    "name": "ipython",
    "version": 3
   },
   "file_extension": ".py",
   "mimetype": "text/x-python",
   "name": "python",
   "nbconvert_exporter": "python",
   "pygments_lexer": "ipython3",
   "version": "3.7.3"
  }
 },
 "nbformat": 4,
 "nbformat_minor": 2
}
